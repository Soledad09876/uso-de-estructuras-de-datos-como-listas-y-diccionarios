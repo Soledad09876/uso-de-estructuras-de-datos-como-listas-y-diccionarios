{
  "nbformat": 4,
  "nbformat_minor": 0,
  "metadata": {
    "colab": {
      "provenance": [],
      "authorship_tag": "ABX9TyP4YSigi9226+UP9e/IhHnW",
      "include_colab_link": true
    },
    "kernelspec": {
      "name": "python3",
      "display_name": "Python 3"
    },
    "language_info": {
      "name": "python"
    }
  },
  "cells": [
    {
      "cell_type": "markdown",
      "metadata": {
        "id": "view-in-github",
        "colab_type": "text"
      },
      "source": [
        "<a href=\"https://colab.research.google.com/github/Soledad09876/uso-de-estructuras-de-datos-como-listas-y-diccionarios/blob/main/Listas_diccionarios.ipynb\" target=\"_parent\"><img src=\"https://colab.research.google.com/assets/colab-badge.svg\" alt=\"Open In Colab\"/></a>"
      ]
    },
    {
      "cell_type": "code",
      "execution_count": null,
      "metadata": {
        "id": "a_6gJ8YGHTiX"
      },
      "outputs": [],
      "source": [
        "##Crea un programa que tenga la siguiente lista con los gastos de una empresa de papel\n",
        "##[2172.54, 3701.35, 3518.09, 3456.61, 3249.38, 2840.82, 3891.45, 3075.26, 2317.64, 3219.08].\n",
        "##Con estos valores, crea un programa que calcule el promedio de gastos. Sugerencia: usa las funciones integradas sum() y len()"
      ]
    },
    {
      "cell_type": "code",
      "source": [
        "gastos = [2172.54, 3701.35, 3518.09, 3456.61, 3249.38, 2840.82, 3891.45, 3075.26, 2317.64, 3219.08]"
      ],
      "metadata": {
        "id": "hk7NcNvGIXxn"
      },
      "execution_count": 1,
      "outputs": []
    },
    {
      "cell_type": "code",
      "source": [
        "sum(gastos)\n",
        "\n"
      ],
      "metadata": {
        "colab": {
          "base_uri": "https://localhost:8080/"
        },
        "id": "wMeMWBb8IYbc",
        "outputId": "2b1acfa7-48a3-4d5e-ac0a-70fd2d825793"
      },
      "execution_count": 11,
      "outputs": [
        {
          "output_type": "execute_result",
          "data": {
            "text/plain": [
              "31442.22"
            ]
          },
          "metadata": {},
          "execution_count": 11
        }
      ]
    },
    {
      "cell_type": "code",
      "source": [
        "len(gastos)"
      ],
      "metadata": {
        "colab": {
          "base_uri": "https://localhost:8080/"
        },
        "id": "VwQuNWCNIYn9",
        "outputId": "2f0c50eb-e6c4-40f5-ac7f-a670058958e8"
      },
      "execution_count": 10,
      "outputs": [
        {
          "output_type": "execute_result",
          "data": {
            "text/plain": [
              "10"
            ]
          },
          "metadata": {},
          "execution_count": 10
        }
      ]
    },
    {
      "cell_type": "code",
      "source": [
        "print(sum(gastos)/len(gastos))"
      ],
      "metadata": {
        "colab": {
          "base_uri": "https://localhost:8080/"
        },
        "id": "qXiXMl7yIZBd",
        "outputId": "e398edca-7e2b-4da0-c83b-03cdc1fed3a4"
      },
      "execution_count": 12,
      "outputs": [
        {
          "output_type": "stream",
          "name": "stdout",
          "text": [
            "3144.222\n"
          ]
        }
      ]
    },
    {
      "cell_type": "code",
      "source": [
        "##Con los mismos datos de la pregunta anterior, determina cuántas compras se realizaron por encima de 3000 reales\n",
        "##y calcula el porcentaje con respecto al total de compras."
      ],
      "metadata": {
        "id": "buUvqgmDIZPF"
      },
      "execution_count": null,
      "outputs": []
    },
    {
      "cell_type": "code",
      "source": [
        "compras_sobre_3000 = [gasto for gasto in gastos if gasto > 3000]"
      ],
      "metadata": {
        "id": "-LrUqTG5IZhk"
      },
      "execution_count": 13,
      "outputs": []
    },
    {
      "cell_type": "code",
      "source": [
        "len(compras_sobre_3000)"
      ],
      "metadata": {
        "colab": {
          "base_uri": "https://localhost:8080/"
        },
        "id": "Vdh5OUm9LTnO",
        "outputId": "0ec6dabd-d865-4156-f83d-aa6e314d8bce"
      },
      "execution_count": 14,
      "outputs": [
        {
          "output_type": "execute_result",
          "data": {
            "text/plain": [
              "7"
            ]
          },
          "metadata": {},
          "execution_count": 14
        }
      ]
    },
    {
      "cell_type": "code",
      "source": [
        "porcentaje_compras_sobre_3000 = len(compras_sobre_3000) / len(gastos) * 100"
      ],
      "metadata": {
        "id": "MPA4tk7_LT1k"
      },
      "execution_count": 18,
      "outputs": []
    },
    {
      "cell_type": "code",
      "source": [
        "print(porcentaje_compras_sobre_3000)"
      ],
      "metadata": {
        "colab": {
          "base_uri": "https://localhost:8080/"
        },
        "id": "WduR_V0pLUDz",
        "outputId": "40895b80-82cc-42fc-afd9-4af694584ba0"
      },
      "execution_count": 19,
      "outputs": [
        {
          "output_type": "stream",
          "name": "stdout",
          "text": [
            "70.0\n"
          ]
        }
      ]
    },
    {
      "cell_type": "code",
      "source": [
        "##Crea un código que recoja en una lista 5 números enteros aleatorios e imprima la lista. Ejemplo: [1, 4, 7, 2, 4]."
      ],
      "metadata": {
        "id": "eBkpv0S3LUNj"
      },
      "execution_count": null,
      "outputs": []
    },
    {
      "cell_type": "code",
      "source": [
        "numeros = []\n",
        "\n",
        "numeros.append(int(input(\"Ingresa el número 1: \")))\n",
        "numeros.append(int(input(\"Ingresa el número 2: \")))\n",
        "numeros.append(int(input(\"Ingresa el número 3: \")))\n",
        "numeros.append(int(input(\"Ingresa el número 4: \")))\n",
        "numeros.append(int(input(\"Ingresa el número 5: \")))\n",
        "\n",
        "print(\"Lista de números:\", numeros)\n"
      ],
      "metadata": {
        "colab": {
          "base_uri": "https://localhost:8080/"
        },
        "id": "M4eomZhgLzfs",
        "outputId": "3b1a7366-1635-48b1-dbfe-e1be2cfae2e7"
      },
      "execution_count": 37,
      "outputs": [
        {
          "output_type": "stream",
          "name": "stdout",
          "text": [
            "Ingresa el número 1: 3\n",
            "Ingresa el número 2: 4\n",
            "Ingresa el número 3: 3\n",
            "Ingresa el número 4: 7\n",
            "Ingresa el número 5: 9\n",
            "Lista de números: [3, 4, 3, 7, 9]\n"
          ]
        }
      ]
    },
    {
      "cell_type": "code",
      "source": [
        "##Recoge nuevamente 5 números enteros e imprime la lista en orden inverso al enviado."
      ],
      "metadata": {
        "id": "mSrISavQL0F7"
      },
      "execution_count": null,
      "outputs": []
    },
    {
      "cell_type": "code",
      "source": [
        "numeros = []\n",
        "\n",
        "numeros.append(int(input(\"Ingresa el número 1: \")))\n",
        "numeros.append(int(input(\"Ingresa el número 2: \")))\n",
        "numeros.append(int(input(\"Ingresa el número 3: \")))\n",
        "numeros.append(int(input(\"Ingresa el número 4: \")))\n",
        "numeros.append(int(input(\"Ingresa el número 5: \")))\n",
        "\n",
        "numeros.reverse()\n",
        "print (numeros)"
      ],
      "metadata": {
        "colab": {
          "base_uri": "https://localhost:8080/"
        },
        "id": "oT9P5oFML0RC",
        "outputId": "cd360cbc-534c-426b-c718-c9bf82de5279"
      },
      "execution_count": 45,
      "outputs": [
        {
          "output_type": "stream",
          "name": "stdout",
          "text": [
            "Ingresa el número 1: 2\n",
            "Ingresa el número 2: 3\n",
            "Ingresa el número 3: 4\n",
            "Ingresa el número 4: 5\n",
            "Ingresa el número 5: 6\n",
            "[6, 5, 4, 3, 2]\n"
          ]
        }
      ]
    },
    {
      "cell_type": "code",
      "source": [
        "##Crea un programa que, al ingresar un número cualquiera, genere una lista que contenga todos los números primos\n",
        "##entre 1 y el número ingresado."
      ],
      "metadata": {
        "id": "gyxXHHYFL0cS"
      },
      "execution_count": 46,
      "outputs": []
    },
    {
      "cell_type": "code",
      "source": [
        "numeros_primos =[]\n",
        "\n",
        "numeros_primos.append(int(input(\"Ingresa un número: \")))\n",
        "\n",
        "todos_numeros_primos = [numero for numero in range(1, numeros_primos[0] + 1) if numero > 1 and all(numero % i != 0 for i in range(2, int(numero ** 0.5) + 1))]\n",
        "print(todos_numeros_primos)\n",
        "\n"
      ],
      "metadata": {
        "colab": {
          "base_uri": "https://localhost:8080/"
        },
        "id": "0psgGnXaL0ly",
        "outputId": "9bbea5a8-c382-47c2-b4e5-8f0c499e3a5e"
      },
      "execution_count": 48,
      "outputs": [
        {
          "output_type": "stream",
          "name": "stdout",
          "text": [
            "Ingresa un número: 7\n",
            "[2, 3, 5, 7]\n"
          ]
        }
      ]
    },
    {
      "cell_type": "code",
      "source": [
        "##Escribe un programa que pida una fecha, especificando el día, mes y año, y determine si es válida para su análisis."
      ],
      "metadata": {
        "id": "Xok1Z_N2Ugjy"
      },
      "execution_count": null,
      "outputs": []
    },
    {
      "cell_type": "code",
      "source": [
        "from datetime import datetime\n",
        "\n",
        "fechas = []\n",
        "\n",
        "fechas.append(int(input(\"Ingresa el día: \")))\n",
        "fechas.append(int(input(\"Ingresa el mes: \")))\n",
        "fechas.append(int(input(\"Ingresa el año: \")))\n",
        "\n",
        "dia, mes, ano = fechas\n",
        "\n",
        "fecha_valida = datetime(ano, mes, dia)\n",
        "\n",
        "print(fecha_valida.strftime('%Y-%m-%d') == f'{ano:04d}-{mes:02d}-{dia:02d}')1\n",
        "\n"
      ],
      "metadata": {
        "colab": {
          "base_uri": "https://localhost:8080/"
        },
        "id": "jxmn6F35UgxY",
        "outputId": "509f7d7f-468c-4293-c1ca-d20d7fee8a98"
      },
      "execution_count": 54,
      "outputs": [
        {
          "output_type": "stream",
          "name": "stdout",
          "text": [
            "Ingresa el día: 30\n",
            "Ingresa el mes: 11\n",
            "Ingresa el año: 1978\n",
            "True\n"
          ]
        }
      ]
    },
    {
      "cell_type": "code",
      "source": [
        "## Para un estudio sobre la multiplicación de bacterias en una colonia, se recopiló el número de bacterias multiplicadas por día\n",
        "##y se puede observar a continuación: [1.2, 2.1, 3.3, 5.0, 7.8, 11.3, 16.6, 25.1, 37.8, 56.9].\n",
        "##Con estos valores, crea un código que genere una lista que contenga el porcentaje de crecimiento de bacterias por día,\n",
        "##comparando el número de bacterias en cada día con el número de bacterias del día anterior.\n",
        "##Sugerencia: para calcular el porcentaje de crecimiento, utiliza la siguiente ecuación: 100 * (muestra_actual - muestra_anterior) / muestra_anterior."
      ],
      "metadata": {
        "id": "aiDZu-sOUg79"
      },
      "execution_count": null,
      "outputs": []
    },
    {
      "cell_type": "code",
      "source": [
        "num_bacterias = [1.2, 2.1, 3.3, 5.0, 7.8, 11.3, 16.6, 25.1, 37.8, 56.9]\n",
        "\n",
        "print(num_bacterias)"
      ],
      "metadata": {
        "colab": {
          "base_uri": "https://localhost:8080/"
        },
        "id": "32mVUiwNUhHn",
        "outputId": "372668ce-9eb7-4f08-8d68-3a449d744921"
      },
      "execution_count": 56,
      "outputs": [
        {
          "output_type": "stream",
          "name": "stdout",
          "text": [
            "[1.2, 2.1, 3.3, 5.0, 7.8, 11.3, 16.6, 25.1, 37.8, 56.9]\n"
          ]
        }
      ]
    },
    {
      "cell_type": "code",
      "source": [
        "porcentajes_crecimiento = []\n",
        "\n",
        "for i in range(1, len(num_bacterias)):\n",
        "    muestra_anterior = num_bacterias[i - 1]\n",
        "    muestra_actual = num_bacterias[i]\n",
        "    crecimiento = 100 * (muestra_actual - muestra_anterior) / muestra_anterior\n",
        "\n",
        "    porcentajes_crecimiento.append(round(crecimiento, 2))\n",
        "\n",
        "print(porcentajes_crecimiento)"
      ],
      "metadata": {
        "colab": {
          "base_uri": "https://localhost:8080/"
        },
        "id": "kcCz4QNMUhQX",
        "outputId": "e59386ea-2776-4c45-cdc7-384c7a122c01"
      },
      "execution_count": 61,
      "outputs": [
        {
          "output_type": "stream",
          "name": "stdout",
          "text": [
            "[75.0, 57.14, 51.52, 56.0, 44.87, 46.9, 51.2, 50.6, 50.53]\n"
          ]
        }
      ]
    },
    {
      "cell_type": "code",
      "source": [
        "##Para una selección de productos alimenticios, debemos separar el conjunto de IDs proporcionados por números enteros,\n",
        "##sabiendo que los productos con ID par son dulces y los que tienen ID impar son amargos.\n",
        "##Crea un código que recoja 10 IDs. Luego, calcula y muestra la cantidad de productos dulces y amargos."
      ],
      "metadata": {
        "id": "8hs2jZUva5HI"
      },
      "execution_count": null,
      "outputs": []
    },
    {
      "cell_type": "code",
      "source": [
        "ID = []\n",
        "\n",
        "ID.append(int(input(\"Ingresa el ID 1: \")))\n",
        "ID.append(int(input(\"Ingresa el ID 2: \")))\n",
        "ID.append(int(input(\"Ingresa el ID 3: \")))\n",
        "ID.append(int(input(\"Ingresa el ID 4: \")))\n",
        "ID.append(int(input(\"Ingresa el ID 5: \")))\n",
        "ID.append(int(input(\"Ingresa el ID 6: \")))\n",
        "ID.append(int(input(\"Ingresa el ID 7: \")))\n",
        "ID.append(int(input(\"Ingresa el ID 8: \")))\n",
        "ID.append(int(input(\"Ingresa el ID 9: \")))\n",
        "ID.append(int(input(\"Ingresa el ID 10: \")))\n",
        "\n",
        "print(\"Lista de IDs:\", ID)"
      ],
      "metadata": {
        "colab": {
          "base_uri": "https://localhost:8080/"
        },
        "id": "jQZZvu0Pa6wq",
        "outputId": "045f20d6-1276-4006-a00c-0ffb23017b40"
      },
      "execution_count": 62,
      "outputs": [
        {
          "output_type": "stream",
          "name": "stdout",
          "text": [
            "Ingresa el ID 1: 2\n",
            "Ingresa el ID 2: 4\n",
            "Ingresa el ID 3: 3\n",
            "Ingresa el ID 4: 5\n",
            "Ingresa el ID 5: 7\n",
            "Ingresa el ID 6: 12\n",
            "Ingresa el ID 7: 12\n",
            "Ingresa el ID 8: 5\n",
            "Ingresa el ID 9: 4\n",
            "Ingresa el ID 10: 2\n",
            "Lista de IDs: [2, 4, 3, 5, 7, 12, 12, 5, 4, 2]\n"
          ]
        }
      ]
    },
    {
      "cell_type": "code",
      "source": [
        "dulces = [id for id in ID if id % 2 == 0]\n",
        "amargos = [id for id in ID if id % 2 != 0]\n",
        "\n",
        "print(\"Cantidad de productos dulces:\", len(dulces))\n",
        "print(\"Cantidad de productos amargos:\", len(amargos))"
      ],
      "metadata": {
        "colab": {
          "base_uri": "https://localhost:8080/"
        },
        "id": "hWGtX3B2bgnW",
        "outputId": "7c2260ad-cdc3-48c9-8d3e-77ea3dd57886"
      },
      "execution_count": 65,
      "outputs": [
        {
          "output_type": "stream",
          "name": "stdout",
          "text": [
            "Cantidad de productos dulces: 6\n",
            "Cantidad de productos amargos: 4\n"
          ]
        }
      ]
    },
    {
      "cell_type": "code",
      "source": [
        "##Desarrolla un programa que informe la puntuación de un estudiante de acuerdo con sus respuestas.\n",
        "##Debe pedir la respuesta del estudiante para cada pregunta y verificar si la respuesta coincide con el resultado.\n",
        "##Cada pregunta vale un punto y hay opciones A, B, C o D."
      ],
      "metadata": {
        "id": "OqPdAjx-cBDc"
      },
      "execution_count": null,
      "outputs": []
    },
    {
      "cell_type": "code",
      "source": [
        "preguntas = {\n",
        "    \"Pregunta 1\": \"D\",\n",
        "    \"Pregunta 2\": \"A\",\n",
        "    \"Pregunta 3\": \"C\",\n",
        "    \"Pregunta 4\": \"B\",\n",
        "    \"Pregunta 5\": \"A\",\n",
        "    \"Pregunta 6\": \"D\",\n",
        "    \"Pregunta 7\": \"C\",\n",
        "    \"Pregunta 8\": \"C\",\n",
        "    \"Pregunta 9\": \"A\",\n",
        "    \"Pregunta 10\": \"B\"\n",
        "}\n",
        "\n",
        "puntuacion = 0\n",
        "\n",
        "for pregunta, respuesta_correcta in preguntas.items():\n",
        "    respuesta_estudiante = input(pregunta + \" (A, B, C o D): \")\n",
        "\n",
        "    if respuesta_estudiante.upper() == respuesta_correcta:\n",
        "        puntuacion += 1\n",
        "\n",
        "print(\"Puntuación final:\", puntuacion)"
      ],
      "metadata": {
        "colab": {
          "base_uri": "https://localhost:8080/"
        },
        "id": "JV-llD9XcLg6",
        "outputId": "3673cc78-463e-42c5-bc70-7205c837f1de"
      },
      "execution_count": 67,
      "outputs": [
        {
          "output_type": "stream",
          "name": "stdout",
          "text": [
            "Pregunta 1 (A, B, C o D): a\n",
            "Pregunta 2 (A, B, C o D): c\n",
            "Pregunta 3 (A, B, C o D): b\n",
            "Pregunta 4 (A, B, C o D): d\n",
            "Pregunta 5 (A, B, C o D): d\n",
            "Pregunta 6 (A, B, C o D): d\n",
            "Pregunta 7 (A, B, C o D): c\n",
            "Pregunta 8 (A, B, C o D): a\n",
            "Pregunta 9 (A, B, C o D): b\n",
            "Pregunta 10 (A, B, C o D): a\n",
            "Puntuación final: 2\n"
          ]
        }
      ]
    },
    {
      "cell_type": "code",
      "source": [
        "##Un instituto de meteorología desea realizar un estudio de la temperatura media de cada mes del año.\n",
        "##Para ello, debes crear un código que recoja y almacene esas temperaturas medias en una lista.\n",
        "##Luego, calcula el promedio anual de las temperaturas y muestra todas las temperaturas por encima del promedio anual y en qué mes ocurrieron,\n",
        "##mostrando los meses por su nombre (Enero, Febrero, etc.)."
      ],
      "metadata": {
        "id": "1Xoyra5IcG4z"
      },
      "execution_count": null,
      "outputs": []
    },
    {
      "cell_type": "code",
      "source": [
        "\n",
        "meses = [\"Enero\", \"Febrero\", \"Marzo\", \"Abril\", \"Mayo\", \"Junio\",\n",
        "         \"Julio\", \"Agosto\", \"Septiembre\", \"Octubre\", \"Noviembre\", \"Diciembre\"]\n",
        "\n",
        "temperaturas_media = []\n",
        "\n",
        "temperaturas_media.append(float(input(\"Ingresa la temperatura media de enero: \")))\n",
        "temperaturas_media.append(float(input(\"Ingresa la temperatura media de febrero: \")))\n",
        "temperaturas_media.append(float(input(\"Ingresa la temperatura media de marzo: \")))\n",
        "temperaturas_media.append(float(input(\"Ingresa la temperatura media de abril: \")))\n",
        "temperaturas_media.append(float(input(\"Ingresa la temperatura media de mayo: \")))\n",
        "temperaturas_media.append(float(input(\"Ingresa la temperatura media de junio: \")))\n",
        "temperaturas_media.append(float(input(\"Ingresa la temperatura media de julio: \")))\n",
        "temperaturas_media.append(float(input(\"Ingresa la temperatura media de agosto: \")))\n",
        "temperaturas_media.append(float(input(\"Ingresa la temperatura media de septiembre: \")))\n",
        "temperaturas_media.append(float(input(\"Ingresa la temperatura media de octubre: \")))\n",
        "temperaturas_media.append(float(input(\"Ingresa la temperatura media de noviembre: \")))\n",
        "temperaturas_media.append(float(input(\"Ingresa la temperatura media de diciembre: \")))\n",
        "\n",
        "\n",
        "promedio_anual = sum(temperaturas_media) / len(temperaturas_media)\n",
        "print(\"\\nPromedio anual de las temperaturas:\", round(promedio_anual, 2))\n",
        "\n",
        "\n",
        "print(\"\\nMeses con temperatura por encima del promedio anual:\")\n",
        "for i in range(12):\n",
        "    if temperaturas_media[i] > promedio_anual:\n",
        "        print(f\"{meses[i]}: {temperaturas_media[i]}°C\")\n",
        "\n",
        "\n"
      ],
      "metadata": {
        "colab": {
          "base_uri": "https://localhost:8080/"
        },
        "id": "6DNjbi4EcA-U",
        "outputId": "faf617db-46b9-434a-8251-15aa144c5610"
      },
      "execution_count": 73,
      "outputs": [
        {
          "output_type": "stream",
          "name": "stdout",
          "text": [
            "Ingresa la temperatura media de enero: 30\n",
            "Ingresa la temperatura media de febrero: 32\n",
            "Ingresa la temperatura media de marzo: 29\n",
            "Ingresa la temperatura media de abril: 25\n",
            "Ingresa la temperatura media de mayo: 20\n",
            "Ingresa la temperatura media de junio: 18\n",
            "Ingresa la temperatura media de julio: 14\n",
            "Ingresa la temperatura media de agosto: 10\n",
            "Ingresa la temperatura media de septiembre: 15\n",
            "Ingresa la temperatura media de octubre: 20\n",
            "Ingresa la temperatura media de noviembre: 25\n",
            "Ingresa la temperatura media de diciembre: 28\n",
            "\n",
            "Promedio anual de las temperaturas: 22.17\n",
            "\n",
            "Meses con temperatura por encima del promedio anual:\n",
            "Enero: 30.0°C\n",
            "Febrero: 32.0°C\n",
            "Marzo: 29.0°C\n",
            "Abril: 25.0°C\n",
            "Noviembre: 25.0°C\n",
            "Diciembre: 28.0°C\n"
          ]
        }
      ]
    },
    {
      "cell_type": "code",
      "source": [
        "##Una empresa de comercio electrónico está interesada en analizar las ventas de sus productos.\n",
        "##Los datos de ventas se han almacenado en un diccionario:\n",
        "##{'Producto A': 300, 'Producto B': 80, 'Producto C': 60, 'Producto D': 200, 'Producto E': 250, 'Producto F': 30}\n",
        "##Escribe un código que calcule el total de ventas y el producto más vendido."
      ],
      "metadata": {
        "id": "rrm-q7h3cA5z"
      },
      "execution_count": 73,
      "outputs": []
    },
    {
      "cell_type": "code",
      "source": [
        "ventas = {'Producto A': 300, 'Producto B': 80, 'Producto C': 60, 'Producto D': 200, 'Producto E': 250, 'Producto F': 30}\n",
        "\n",
        "total_ventas = sum(ventas.values())\n",
        "print(\"Total de ventas:\", total_ventas)\n",
        "\n",
        "producto_mas_vendido = max(ventas, key=ventas.get)\n",
        "print(\"Producto más vendido:\", producto_mas_vendido)"
      ],
      "metadata": {
        "colab": {
          "base_uri": "https://localhost:8080/"
        },
        "id": "ByHizgoaehga",
        "outputId": "add6b9aa-c1d8-4a74-d73f-e0418faa988d"
      },
      "execution_count": 74,
      "outputs": [
        {
          "output_type": "stream",
          "name": "stdout",
          "text": [
            "Total de ventas: 920\n",
            "Producto más vendido: Producto A\n"
          ]
        }
      ]
    },
    {
      "cell_type": "code",
      "source": [
        "##Se realizó una encuesta de mercado para decidir cuál diseño de marca infantil es más atractivo para los niños.\n",
        "##Los votos de la encuesta se pueden ver a continuación:\n",
        "\n",
        "Tabla de votos de la marca\n",
        "Diseño 1 - 1334 votos\n",
        "Diseño 2 - 982 votos\n",
        "Diseño 3 - 1751 votos\n",
        "Diseño 4 - 210 votos\n",
        "Diseño 5 - 1811 votos\n",
        "\n",
        "##Adapta los datos proporcionados a una estructura de diccionario. A partir de ello, informa el diseño ganador y el porcentaje de votos recibidos."
      ],
      "metadata": {
        "id": "MWGxjywwehbX"
      },
      "execution_count": null,
      "outputs": []
    },
    {
      "cell_type": "code",
      "source": [
        "Votos_encuesta = {'Diseño 1': 1334, 'Diseño 2': 982, 'Diseño 3': 1751, 'Diseño 4': 210, 'Diseño 5': 1811}\n",
        "print(Votos_encuesta)"
      ],
      "metadata": {
        "colab": {
          "base_uri": "https://localhost:8080/"
        },
        "id": "8P6j__3ZjJzk",
        "outputId": "5790297c-2ef6-41ea-d1e6-84a78aaba9e5"
      },
      "execution_count": 76,
      "outputs": [
        {
          "output_type": "stream",
          "name": "stdout",
          "text": [
            "{'Diseño 1': 1334, 'Diseño 2': 982, 'Diseño 3': 1751, 'Diseño 4': 210, 'Diseño 5': 1811}\n"
          ]
        }
      ]
    },
    {
      "cell_type": "code",
      "source": [
        "diseño_ganador = (max(Votos_encuesta, key=Votos_encuesta.get))\n",
        "print(\"Diseño ganador:\", diseño_ganador)\n",
        "porcentaje_votos = (Votos_encuesta[diseño_ganador] / sum(Votos_encuesta.values())) * 100\n",
        "print(\"Porcentaje de votos recibidos:\", round(porcentaje_votos, 2), \"%\")"
      ],
      "metadata": {
        "colab": {
          "base_uri": "https://localhost:8080/"
        },
        "id": "MiQz_FJJjJwD",
        "outputId": "ca1f5c2c-ee05-4dad-dacd-b77ccf79acc3"
      },
      "execution_count": 77,
      "outputs": [
        {
          "output_type": "stream",
          "name": "stdout",
          "text": [
            "Diseño ganador: Diseño 5\n",
            "Porcentaje de votos recibidos: 29.75 %\n"
          ]
        }
      ]
    },
    {
      "cell_type": "markdown",
      "source": [
        "Los empleados de un departamento de tu empresa recibirán una bonificación del 10% de su salario debido a un excelente rendimiento del equipo. El departamento de finanzas ha solicitado tu ayuda para verificar las consecuencias financieras de esta bonificación en los recursos. Se te ha enviado una lista con los salarios que recibirán la bonificación: [1172, 1644, 2617, 5130, 5532, 6341, 6650, 7238, 7685, 7782, 7903]. La bonificación de cada empleado no puede ser inferior a 200. En el código, convierte cada uno de los salarios en claves de un diccionario y la bonificación de cada salario en el valor correspondiente. Luego, informa el gasto total en bonificaciones, cuántos empleados recibieron la bonificación mínima y cuál fue el valor más alto de la bonificación proporcionada."
      ],
      "metadata": {
        "id": "54-E2GrQkNVQ"
      }
    },
    {
      "cell_type": "code",
      "source": [
        "salarios =  [1172, 1644, 2617, 5130, 5532, 6341, 6650, 7238, 7685, 7782, 7903]\n",
        "\n",
        "bonificaciones = {}\n",
        "\n",
        "for salario in salarios:\n",
        "    bono = salario * 0.10\n",
        "    if bono < 200:\n",
        "        bono = 200\n",
        "    bonificaciones[salario] = round(bono, 1)\n",
        "\n",
        "    gasto_total = sum(bonificaciones.values())\n",
        "\n",
        "bonos_minimos = list(bonificaciones.values()).count(200)\n",
        "\n",
        "\n",
        "bono_maximo = max(bonificaciones.values())\n",
        "\n",
        "print(\"Diccionario de bonificaciones:\")\n",
        "print(bonificaciones)\n",
        "print(\"\\nGasto total en bonificaciones: $\", round(gasto_total, 2))\n",
        "print(\"Cantidad de empleados con bonificación mínima: \", bonos_minimos)\n",
        "print(\"Bonificación más alta entregada: $\", round(bono_maximo, 2))\n"
      ],
      "metadata": {
        "colab": {
          "base_uri": "https://localhost:8080/"
        },
        "id": "-EYiOr8UkP6i",
        "outputId": "b24a6a3e-46aa-4fe0-906d-bd5fa371a3bd"
      },
      "execution_count": 83,
      "outputs": [
        {
          "output_type": "stream",
          "name": "stdout",
          "text": [
            "Diccionario de bonificaciones:\n",
            "{1172: 200, 1644: 200, 2617: 261.7, 5130: 513.0, 5532: 553.2, 6341: 634.1, 6650: 665.0, 7238: 723.8, 7685: 768.5, 7782: 778.2, 7903: 790.3}\n",
            "\n",
            "Gasto total en bonificaciones: $ 6087.8\n",
            "Cantidad de empleados con bonificación mínima:  2\n",
            "Bonificación más alta entregada: $ 790.3\n"
          ]
        }
      ]
    },
    {
      "cell_type": "markdown",
      "source": [
        "Un equipo de científicos de datos está estudiando la diversidad biológica en un bosque. El equipo recopiló información sobre el número de especies de plantas y animales en cada área del bosque y almacenó estos datos en un diccionario. En él, la clave describe el área de los datos y los valores en las listas corresponden a las especies de plantas y animales en esas áreas, respectivamente.\n",
        "\n",
        "{'Área Norte': [2819, 7236], 'Área Leste': [1440, 9492], 'Área Sul': [5969, 7496], 'Área Oeste': [14446, 49688], 'Área Centro': [22558, 45148]}\n",
        "\n",
        "Escribe un código para calcular el promedio de especies por área e identificar el área con la mayor diversidad biológica. Sugerencia: utiliza las funciones incorporadas sum() y len()."
      ],
      "metadata": {
        "id": "rkfP_iDMnKuo"
      }
    },
    {
      "cell_type": "code",
      "source": [
        "Diversidad_Biologica = {\n",
        "    'Área Norte': [2819, 7236],\n",
        "    'Área Leste': [1440, 9492],\n",
        "    'Área Sul': [5969, 7496],\n",
        "    'Área Oeste': [14446, 49688],\n",
        "    'Área Centro': [22558, 45148]\n",
        "}\n",
        "\n",
        "promedios = {}\n",
        "mayor_diversidad = None\n",
        "max_total = 0\n",
        "\n",
        "# Se corrige la indentación y se reemplaza 'datos' por 'Diversidad_Biologica'\n",
        "for area, valores in Diversidad_Biologica.items():\n",
        "    plantas = valores[0]\n",
        "    animales = valores[1]\n",
        "    total = plantas + animales\n",
        "    promedio = total / 2\n",
        "    promedios[area] = promedio\n",
        "\n",
        "    if total > max_total:\n",
        "        max_total = total\n",
        "        mayor_diversidad = area\n",
        "\n",
        "print(\"Promedio de especies por área:\")\n",
        "for area, promedio in promedios.items():\n",
        "    print(f\"{area}: {round(promedio, 1)} especies en promedio\")\n",
        "\n",
        "print(f\"\\nÁrea con mayor diversidad biológica: {mayor_diversidad} ({max_total} especies en total)\")\n"
      ],
      "metadata": {
        "colab": {
          "base_uri": "https://localhost:8080/"
        },
        "id": "hdJznwD6nGWa",
        "outputId": "749a9f54-a4fc-400d-d6e2-a1a16859fe04"
      },
      "execution_count": 97,
      "outputs": [
        {
          "output_type": "stream",
          "name": "stdout",
          "text": [
            "Promedio de especies por área:\n",
            "Área Norte: 5027.5 especies en promedio\n",
            "Área Leste: 5466.0 especies en promedio\n",
            "Área Sul: 6732.5 especies en promedio\n",
            "Área Oeste: 32067.0 especies en promedio\n",
            "Área Centro: 33853.0 especies en promedio\n",
            "\n",
            "Área con mayor diversidad biológica: Área Centro (67706 especies en total)\n"
          ]
        }
      ]
    },
    {
      "cell_type": "markdown",
      "source": [
        "El departamento de Recursos Humanos de tu empresa te pidió ayuda para analizar las edades de los colaboradores de 4 sectores de la empresa. Para ello, te proporcionaron los siguientes datos:\n",
        "\n",
        "{'Setor A': [22, 26, 30, 30, 35, 38, 40, 56, 57, 65],\n",
        " 'Setor B': [22, 24, 26, 33, 41, 49, 50, 54, 60, 64],\n",
        " 'Setor C': [23, 26, 26, 29, 34, 35, 36, 41, 52, 56],\n",
        " 'Setor D': [19, 20, 25, 27, 34, 39, 42, 44, 50, 65]}\n",
        "\n",
        " Dado que cada sector tiene 10 colaboradores, construye un código que calcule la media de edad de cada sector, la edad media general entre todos los sectores y cuántas personas están por encima de la edad media general."
      ],
      "metadata": {
        "id": "bCVeZzY0ndFa"
      }
    },
    {
      "cell_type": "markdown",
      "source": [],
      "metadata": {
        "id": "DhxdBD38nVyD"
      }
    },
    {
      "cell_type": "code",
      "source": [
        "edades = {\n",
        "    'Setor A': [22, 26, 30, 30, 35, 38, 40, 56, 57, 65],\n",
        "    'Setor B': [22, 24, 26, 33, 41, 49, 50, 54, 60, 64],\n",
        "    'Setor C': [23, 26, 26, 29, 34, 35, 36, 41, 52, 56],\n",
        "    'Setor D': [19, 20, 25, 27, 34, 39, 42, 44, 50, 65]\n",
        "}\n",
        "\n",
        "\n",
        "todas_las_edades = sum(edades.values(), [])\n",
        "media_general = sum(todas_las_edades) / len(todas_las_edades)\n",
        "print(\"Edad media general entre todos los sectores es:\", round(media_general, 2))\n",
        "\n",
        "print(\"\\nEdad media por sector:\")\n",
        "for sector, lista_edades in edades.items():\n",
        "    media_sector = sum(lista_edades) / len(lista_edades)\n",
        "    print(f\"{sector}: {round(media_sector, 2)}\")\n",
        "\n",
        "personas_sobre_media = sum(1 for edad in todas_las_edades if edad > media_general)\n",
        "print(f\"\\nNúmero de personas con edad por encima de la media general: {personas_sobre_media}\")"
      ],
      "metadata": {
        "colab": {
          "base_uri": "https://localhost:8080/"
        },
        "id": "bsOgs-MKnl6G",
        "outputId": "c098d334-6441-48cd-d783-b3f0eb5b6c0d"
      },
      "execution_count": 102,
      "outputs": [
        {
          "output_type": "stream",
          "name": "stdout",
          "text": [
            "Edad media general entre todos los sectores es: 38.62\n",
            "\n",
            "Edad media por sector:\n",
            "Setor A: 39.9\n",
            "Setor B: 42.3\n",
            "Setor C: 35.8\n",
            "Setor D: 36.5\n",
            "\n",
            "Número de personas con edad por encima de la media general: 18\n"
          ]
        }
      ]
    }
  ]
}